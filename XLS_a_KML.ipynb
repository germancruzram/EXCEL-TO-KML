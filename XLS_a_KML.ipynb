{
  "nbformat": 4,
  "nbformat_minor": 0,
  "metadata": {
    "colab": {
      "provenance": [],
      "authorship_tag": "ABX9TyOvoorLZ0yVhBmlXxNwI4tB",
      "include_colab_link": true
    },
    "kernelspec": {
      "name": "python3",
      "display_name": "Python 3"
    },
    "language_info": {
      "name": "python"
    }
  },
  "cells": [
    {
      "cell_type": "markdown",
      "metadata": {
        "id": "view-in-github",
        "colab_type": "text"
      },
      "source": [
        "<a href=\"https://colab.research.google.com/github/germancruzram/EXCEL-TO-KML/blob/main/XLS_a_KML.ipynb\" target=\"_parent\"><img src=\"https://colab.research.google.com/assets/colab-badge.svg\" alt=\"Open In Colab\"/></a>"
      ]
    },
    {
      "cell_type": "markdown",
      "source": [
        "# **# ESTE CUADERNO EN COLAB PERMITE CREAR UN KML PARTIENDO DE UNA TABLA EXCEL CON COORDENADAS GEOGRAFICAS CON GRADOS DECIMALES.**\n",
        "\n",
        "**Elaborado por: German Ahmed Cruz Ramírez. 🇳**"
      ],
      "metadata": {
        "id": "A61R9GtZFfrn"
      }
    },
    {
      "cell_type": "markdown",
      "source": [
        "**1. Preparemos el ambiente de trabajo, cargando las librerias python a utilizar**"
      ],
      "metadata": {
        "id": "H3AooTcS7eDM"
      }
    },
    {
      "cell_type": "code",
      "source": [
        "!pip install simplekml\n",
        "!pip install folium\n",
        "!pip install gdal\n",
        "import pandas as pd\n",
        "import simplekml\n",
        "import os\n",
        "import json\n",
        "from osgeo import ogr\n"
      ],
      "metadata": {
        "id": "IH6HkRdZ7c8W"
      },
      "execution_count": null,
      "outputs": []
    },
    {
      "cell_type": "markdown",
      "source": [
        "**2. CREAREMOS LAS CARPETAS PARA SUBIR LA TABLA EXCEL CON COORDENADAS Y LA CARPETA DE SALIDA KML**"
      ],
      "metadata": {
        "id": "iJIIdPH-4vdo"
      }
    },
    {
      "cell_type": "code",
      "execution_count": 30,
      "metadata": {
        "colab": {
          "base_uri": "https://localhost:8080/"
        },
        "id": "4Gtgbiix4f4b",
        "outputId": "0332264b-aca0-45c0-8edd-5ddeddaa6910"
      },
      "outputs": [
        {
          "output_type": "stream",
          "name": "stdout",
          "text": [
            "La carpeta \"XLS\" ya existe y puedes subir la tabla con coordenadas\n",
            "La carpeta \"KML\" ya existe\n"
          ]
        }
      ],
      "source": [
        "import os\n",
        "\n",
        "# Define el nombre de las carpetas\n",
        "carpeta_xls = \"XLS\"\n",
        "carpeta_kml = \"KML\"\n",
        "\n",
        "# Crea la carpeta \"XLS\" si no existe\n",
        "if not os.path.exists(carpeta_xls):\n",
        "    os.makedirs(carpeta_xls)\n",
        "    print(f'Creada la carpeta \"{carpeta_xls}, ahora puedes subir la tabla con coordenadas\"')\n",
        "else:\n",
        "    print(f'La carpeta \"{carpeta_xls}\" ya existe y puedes subir la tabla con coordenadas')\n",
        "\n",
        "# Crea la carpeta \"KML\" si no existe\n",
        "if not os.path.exists(carpeta_kml):\n",
        "    os.makedirs(carpeta_kml)\n",
        "    print(f'Creada la carpeta \"{carpeta_kml}\"')\n",
        "else:\n",
        "    print(f'La carpeta \"{carpeta_kml}\" ya existe')\n"
      ]
    },
    {
      "cell_type": "markdown",
      "source": [
        "**💡 RECUERDA QUE LA TABLA EXCEL DEBE CONTENER UNA COLUMNA \"LATITUD\" Y \"LONGITUD\" EN GRADOS DECIMALES**"
      ],
      "metadata": {
        "id": "El5re9eM5GAj"
      }
    },
    {
      "cell_type": "markdown",
      "source": [
        "**3. PROCESANDO LA INFORMACION PARA CREAR EL KML**"
      ],
      "metadata": {
        "id": "inEqRR1kFDvz"
      }
    },
    {
      "cell_type": "code",
      "source": [
        "import pandas as pd\n",
        "import simplekml\n",
        "import os\n",
        "\n",
        "# Define las carpetas con rutas absolutas\n",
        "carpeta_xls = \"/content/XLS\"\n",
        "carpeta_kml = \"/content/KML\"\n",
        "\n",
        "# Solicitar al usuario el nombre del campo para el nombre de los puntos\n",
        "nombre_campo = input(\"Por favor, ingresa el nombre del campo para el nombre de los puntos en el KML: \")\n",
        "\n",
        "# Listar los archivos en la carpeta XLS y filtrar por archivos Excel\n",
        "archivos_xls = [archivo for archivo in os.listdir(carpeta_xls) if archivo.endswith('.xlsx') or archivo.endswith('.xls')]\n",
        "\n",
        "# Procesar cada archivo Excel encontrado\n",
        "for nombre_archivo in archivos_xls:\n",
        "    ruta_excel = os.path.join(carpeta_xls, nombre_archivo)\n",
        "    df = pd.read_excel(ruta_excel)\n",
        "\n",
        "    # Crea el objeto KML\n",
        "    kml = simplekml.Kml()\n",
        "\n",
        "    # Itera sobre cada fila del DataFrame y añade un punto en el KML\n",
        "    for idx, fila in df.iterrows():\n",
        "        descripcion = '<br>'.join([f'{col}: {fila[col]}' for col in df.columns if col not in ['Latitud', 'Longitud']])\n",
        "        nombre_punto = fila.get(nombre_campo, \"Sin información\")\n",
        "        punto = kml.newpoint(name=nombre_punto, coords=[(fila['Longitud'], fila['Latitud'])])\n",
        "        punto.description = descripcion\n",
        "\n",
        "    # Guarda el archivo KML en la carpeta \"KML\"\n",
        "    nombre_kml = nombre_archivo.replace('.xlsx', '.kml').replace('.xls', '.kml')\n",
        "    ruta_kml = os.path.join(carpeta_kml, nombre_kml)\n",
        "    kml.save(ruta_kml)\n",
        "    print(f\"Archivo KML guardado en: {ruta_kml}\")\n"
      ],
      "metadata": {
        "colab": {
          "base_uri": "https://localhost:8080/"
        },
        "id": "6f5tfmTcFPlz",
        "outputId": "7c553503-4925-4d58-ceb6-7ffacec70414"
      },
      "execution_count": 37,
      "outputs": [
        {
          "output_type": "stream",
          "name": "stdout",
          "text": [
            "Por favor, ingresa el nombre del campo para el nombre de los puntos en el KML: PK_ubica\n",
            "Archivo KML guardado en: /content/KML/signal.kml\n"
          ]
        }
      ]
    },
    {
      "cell_type": "code",
      "source": [
        "# Convertir KML a GeoJSON\n",
        "def kml_to_geojson(kml_path, geojson_path):\n",
        "    driver = ogr.GetDriverByName('KML')\n",
        "    data = driver.Open(kml_path)\n",
        "    if data is None:\n",
        "        raise Exception(f\"Error al abrir el archivo KML: {kml_path}\")\n",
        "    layer = data.GetLayer()\n",
        "    driver = ogr.GetDriverByName('GeoJSON')\n",
        "    if os.path.exists(geojson_path):\n",
        "        driver.DeleteDataSource(geojson_path)\n",
        "    outData = driver.CreateDataSource(geojson_path)\n",
        "    outLayer = outData.CreateLayer('layer', geom_type=ogr.wkbMultiPolygon)\n",
        "    layerDefn = layer.GetLayerDefn()\n",
        "    for i in range(layerDefn.GetFieldCount()):\n",
        "        fieldDefn = layerDefn.GetFieldDefn(i)\n",
        "        outLayer.CreateField(fieldDefn)\n",
        "    outLayerDefn = outLayer.GetLayerDefn()\n",
        "    for feature in layer:\n",
        "        geom = feature.GetGeometryRef()\n",
        "        outFeature = ogr.Feature(outLayerDefn)\n",
        "        outFeature.SetGeometry(geom)\n",
        "        for i in range(0, outLayerDefn.GetFieldCount()):\n",
        "            outFeature.SetField(outLayerDefn.GetFieldDefn(i).GetNameRef(), feature.GetField(i))\n",
        "        outLayer.CreateFeature(outFeature)\n",
        "        outFeature = None\n",
        "    outData = None\n",
        "\n",
        "# Definición de rutas\n",
        "carpeta_kml = \"/content/KML\"\n",
        "nombre_kml = \"signal.kml\"  # Cambia esto por el nombre de tu archivo KML\n",
        "nombre_geojson = \"signal.geojson\"\n",
        "ruta_kml = os.path.join(carpeta_kml, nombre_kml)\n",
        "ruta_geojson = os.path.join(carpeta_kml, nombre_geojson)\n",
        "\n",
        "# Convertir KML a GeoJSON\n",
        "kml_to_geojson(ruta_kml, ruta_geojson)\n",
        "\n",
        "# Cargar el GeoJSON en un mapa de Folium\n",
        "m = folium.Map(location=[0, 0], zoom_start=2)\n",
        "\n",
        "# Función para añadir popups que muestran toda la información disponible\n",
        "def add_popups(feature):\n",
        "    properties = feature['properties']\n",
        "    html = '<br>'.join([f'{key}: {value}' for key, value in properties.items()])\n",
        "    return folium.Popup(html)\n",
        "\n",
        "# Añadir GeoJSON al mapa con popups y tooltips\n",
        "folium.GeoJson(\n",
        "    ruta_geojson,\n",
        "    name=\"GeoJSON data\",\n",
        "    style_function=lambda feature: {\n",
        "        'fillColor': '#ffff00',\n",
        "        'color': 'black',\n",
        "        'weight': 2,\n",
        "        'dashArray': '5, 5'\n",
        "    },\n",
        "    tooltip=folium.GeoJsonTooltip(\n",
        "        fields=['Name', 'Description'],  # Ajusta estos campos según los datos disponibles en tu GeoJSON\n",
        "        aliases=['Nombre:', 'Descripción:']\n",
        "    ),\n",
        "    popup=add_popups\n",
        ").add_to(m)\n",
        "\n",
        "folium.LayerControl().add_to(m)\n",
        "\n",
        "# Mostrar el mapa\n",
        "m\n",
        "\n"
      ],
      "metadata": {
        "colab": {
          "base_uri": "https://localhost:8080/",
          "height": 923
        },
        "id": "_LhPBlyR-mU3",
        "outputId": "604dbc58-478d-414e-ef1d-1ca0347d0b04"
      },
      "execution_count": 38,
      "outputs": [
        {
          "output_type": "execute_result",
          "data": {
            "text/plain": [
              "<folium.folium.Map at 0x7ebe49adf370>"
            ],
            "text/html": [
              "<div style=\"width:100%;\"><div style=\"position:relative;width:100%;height:0;padding-bottom:60%;\"><span style=\"color:#565656\">Make this Notebook Trusted to load map: File -> Trust Notebook</span><iframe srcdoc=\"&lt;!DOCTYPE html&gt;\n",
              "&lt;html&gt;\n",
              "&lt;head&gt;\n",
              "    \n",
              "    &lt;meta http-equiv=&quot;content-type&quot; content=&quot;text/html; charset=UTF-8&quot; /&gt;\n",
              "    \n",
              "        &lt;script&gt;\n",
              "            L_NO_TOUCH = false;\n",
              "            L_DISABLE_3D = false;\n",
              "        &lt;/script&gt;\n",
              "    \n",
              "    &lt;style&gt;html, body {width: 100%;height: 100%;margin: 0;padding: 0;}&lt;/style&gt;\n",
              "    &lt;style&gt;#map {position:absolute;top:0;bottom:0;right:0;left:0;}&lt;/style&gt;\n",
              "    &lt;script src=&quot;https://cdn.jsdelivr.net/npm/leaflet@1.9.3/dist/leaflet.js&quot;&gt;&lt;/script&gt;\n",
              "    &lt;script src=&quot;https://code.jquery.com/jquery-1.12.4.min.js&quot;&gt;&lt;/script&gt;\n",
              "    &lt;script src=&quot;https://cdn.jsdelivr.net/npm/bootstrap@5.2.2/dist/js/bootstrap.bundle.min.js&quot;&gt;&lt;/script&gt;\n",
              "    &lt;script src=&quot;https://cdnjs.cloudflare.com/ajax/libs/Leaflet.awesome-markers/2.0.2/leaflet.awesome-markers.js&quot;&gt;&lt;/script&gt;\n",
              "    &lt;link rel=&quot;stylesheet&quot; href=&quot;https://cdn.jsdelivr.net/npm/leaflet@1.9.3/dist/leaflet.css&quot;/&gt;\n",
              "    &lt;link rel=&quot;stylesheet&quot; href=&quot;https://cdn.jsdelivr.net/npm/bootstrap@5.2.2/dist/css/bootstrap.min.css&quot;/&gt;\n",
              "    &lt;link rel=&quot;stylesheet&quot; href=&quot;https://netdna.bootstrapcdn.com/bootstrap/3.0.0/css/bootstrap.min.css&quot;/&gt;\n",
              "    &lt;link rel=&quot;stylesheet&quot; href=&quot;https://cdn.jsdelivr.net/npm/@fortawesome/fontawesome-free@6.2.0/css/all.min.css&quot;/&gt;\n",
              "    &lt;link rel=&quot;stylesheet&quot; href=&quot;https://cdnjs.cloudflare.com/ajax/libs/Leaflet.awesome-markers/2.0.2/leaflet.awesome-markers.css&quot;/&gt;\n",
              "    &lt;link rel=&quot;stylesheet&quot; href=&quot;https://cdn.jsdelivr.net/gh/python-visualization/folium/folium/templates/leaflet.awesome.rotate.min.css&quot;/&gt;\n",
              "    \n",
              "            &lt;meta name=&quot;viewport&quot; content=&quot;width=device-width,\n",
              "                initial-scale=1.0, maximum-scale=1.0, user-scalable=no&quot; /&gt;\n",
              "            &lt;style&gt;\n",
              "                #map_3b80ba88650c6724ecb26415b9a66c01 {\n",
              "                    position: relative;\n",
              "                    width: 100.0%;\n",
              "                    height: 100.0%;\n",
              "                    left: 0.0%;\n",
              "                    top: 0.0%;\n",
              "                }\n",
              "                .leaflet-container { font-size: 1rem; }\n",
              "            &lt;/style&gt;\n",
              "        \n",
              "    \n",
              "                    &lt;style&gt;\n",
              "                        .foliumtooltip {\n",
              "                            \n",
              "                        }\n",
              "                       .foliumtooltip table{\n",
              "                            margin: auto;\n",
              "                        }\n",
              "                        .foliumtooltip tr{\n",
              "                            text-align: left;\n",
              "                        }\n",
              "                        .foliumtooltip th{\n",
              "                            padding: 2px; padding-right: 8px;\n",
              "                        }\n",
              "                    &lt;/style&gt;\n",
              "            \n",
              "&lt;/head&gt;\n",
              "&lt;body&gt;\n",
              "    \n",
              "    \n",
              "            &lt;div class=&quot;folium-map&quot; id=&quot;map_3b80ba88650c6724ecb26415b9a66c01&quot; &gt;&lt;/div&gt;\n",
              "        \n",
              "&lt;/body&gt;\n",
              "&lt;script&gt;\n",
              "    \n",
              "    \n",
              "            var map_3b80ba88650c6724ecb26415b9a66c01 = L.map(\n",
              "                &quot;map_3b80ba88650c6724ecb26415b9a66c01&quot;,\n",
              "                {\n",
              "                    center: [0.0, 0.0],\n",
              "                    crs: L.CRS.EPSG3857,\n",
              "                    zoom: 2,\n",
              "                    zoomControl: true,\n",
              "                    preferCanvas: false,\n",
              "                }\n",
              "            );\n",
              "\n",
              "            \n",
              "\n",
              "        \n",
              "    \n",
              "            var tile_layer_10dfdf90e3c26c63ca0a37834773c8fd = L.tileLayer(\n",
              "                &quot;https://{s}.tile.openstreetmap.org/{z}/{x}/{y}.png&quot;,\n",
              "                {&quot;attribution&quot;: &quot;Data by \\u0026copy; \\u003ca target=\\&quot;_blank\\&quot; href=\\&quot;http://openstreetmap.org\\&quot;\\u003eOpenStreetMap\\u003c/a\\u003e, under \\u003ca target=\\&quot;_blank\\&quot; href=\\&quot;http://www.openstreetmap.org/copyright\\&quot;\\u003eODbL\\u003c/a\\u003e.&quot;, &quot;detectRetina&quot;: false, &quot;maxNativeZoom&quot;: 18, &quot;maxZoom&quot;: 18, &quot;minZoom&quot;: 0, &quot;noWrap&quot;: false, &quot;opacity&quot;: 1, &quot;subdomains&quot;: &quot;abc&quot;, &quot;tms&quot;: false}\n",
              "            ).addTo(map_3b80ba88650c6724ecb26415b9a66c01);\n",
              "        \n",
              "    \n",
              "        function geo_json_05b441f451b3a42c427f0ee0cc3b5b93_styler(feature) {\n",
              "            switch(feature.properties.Name) {\n",
              "                default:\n",
              "                    return {&quot;color&quot;: &quot;black&quot;, &quot;dashArray&quot;: &quot;5, 5&quot;, &quot;fillColor&quot;: &quot;#ffff00&quot;, &quot;weight&quot;: 2};\n",
              "            }\n",
              "        }\n",
              "\n",
              "        function geo_json_05b441f451b3a42c427f0ee0cc3b5b93_onEachFeature(feature, layer) {\n",
              "            layer.on({\n",
              "            });\n",
              "        };\n",
              "        var geo_json_05b441f451b3a42c427f0ee0cc3b5b93 = L.geoJson(null, {\n",
              "                onEachFeature: geo_json_05b441f451b3a42c427f0ee0cc3b5b93_onEachFeature,\n",
              "            \n",
              "                style: geo_json_05b441f451b3a42c427f0ee0cc3b5b93_styler,\n",
              "        });\n",
              "\n",
              "        function geo_json_05b441f451b3a42c427f0ee0cc3b5b93_add (data) {\n",
              "            geo_json_05b441f451b3a42c427f0ee0cc3b5b93\n",
              "                .addData(data)\n",
              "                .addTo(map_3b80ba88650c6724ecb26415b9a66c01);\n",
              "        }\n",
              "            geo_json_05b441f451b3a42c427f0ee0cc3b5b93_add({&quot;features&quot;: [{&quot;geometry&quot;: {&quot;coordinates&quot;: [-85.184355, 12.86624, 0.0], &quot;type&quot;: &quot;Point&quot;}, &quot;properties&quot;: {&quot;Description&quot;: &quot;id_senal: 166600.0\\u003cbr\\u003ePK_ubica: 203.783\\u003cbr\\u003eid_tipo_senal: 10.0\\u003cbr\\u003eid_tipo_seccion: 6.0\\u003cbr\\u003eAltura: 239.757&quot;, &quot;Name&quot;: &quot;203.783&quot;}, &quot;type&quot;: &quot;Feature&quot;}, {&quot;geometry&quot;: {&quot;coordinates&quot;: [-85.184135, 12.865168, 0.0], &quot;type&quot;: &quot;Point&quot;}, &quot;properties&quot;: {&quot;Description&quot;: &quot;id_senal: 166607.0\\u003cbr\\u003ePK_ubica: 203.898\\u003cbr\\u003eid_tipo_senal: 10.0\\u003cbr\\u003eid_tipo_seccion: 6.0\\u003cbr\\u003eAltura: 245.676&quot;, &quot;Name&quot;: &quot;203.898&quot;}, &quot;type&quot;: &quot;Feature&quot;}, {&quot;geometry&quot;: {&quot;coordinates&quot;: [-85.181822, 12.863475, 0.0], &quot;type&quot;: &quot;Point&quot;}, &quot;properties&quot;: {&quot;Description&quot;: &quot;id_senal: 166609.0\\u003cbr\\u003ePK_ubica: 204.233\\u003cbr\\u003eid_tipo_senal: 10.0\\u003cbr\\u003eid_tipo_seccion: 6.0\\u003cbr\\u003eAltura: 255.419&quot;, &quot;Name&quot;: &quot;204.233&quot;}, &quot;type&quot;: &quot;Feature&quot;}, {&quot;geometry&quot;: {&quot;coordinates&quot;: [-85.181753, 12.863395, 0.0], &quot;type&quot;: &quot;Point&quot;}, &quot;properties&quot;: {&quot;Description&quot;: &quot;id_senal: 166610.0\\u003cbr\\u003ePK_ubica: 204.244\\u003cbr\\u003eid_tipo_senal: 10.0\\u003cbr\\u003eid_tipo_seccion: 6.0\\u003cbr\\u003eAltura: 255.583&quot;, &quot;Name&quot;: &quot;204.244&quot;}, &quot;type&quot;: &quot;Feature&quot;}, {&quot;geometry&quot;: {&quot;coordinates&quot;: [-85.179592, 12.860323, 0.0], &quot;type&quot;: &quot;Point&quot;}, &quot;properties&quot;: {&quot;Description&quot;: &quot;id_senal: 166619.0\\u003cbr\\u003ePK_ubica: 204.672\\u003cbr\\u003eid_tipo_senal: 10.0\\u003cbr\\u003eid_tipo_seccion: 6.0\\u003cbr\\u003eAltura: 212.173&quot;, &quot;Name&quot;: &quot;204.672&quot;}, &quot;type&quot;: &quot;Feature&quot;}, {&quot;geometry&quot;: {&quot;coordinates&quot;: [-85.17945, 12.860275, 0.0], &quot;type&quot;: &quot;Point&quot;}, &quot;properties&quot;: {&quot;Description&quot;: &quot;id_senal: 166620.0\\u003cbr\\u003ePK_ubica: 204.684\\u003cbr\\u003eid_tipo_senal: 10.0\\u003cbr\\u003eid_tipo_seccion: 6.0\\u003cbr\\u003eAltura: 212.173&quot;, &quot;Name&quot;: &quot;204.684&quot;}, &quot;type&quot;: &quot;Feature&quot;}, {&quot;geometry&quot;: {&quot;coordinates&quot;: [-85.179133, 12.857187, 0.0], &quot;type&quot;: &quot;Point&quot;}, &quot;properties&quot;: {&quot;Description&quot;: &quot;id_senal: 166623.0\\u003cbr\\u003ePK_ubica: 205.05\\u003cbr\\u003eid_tipo_senal: 10.0\\u003cbr\\u003eid_tipo_seccion: 6.0\\u003cbr\\u003eAltura: 221.558&quot;, &quot;Name&quot;: &quot;205.05&quot;}, &quot;type&quot;: &quot;Feature&quot;}, {&quot;geometry&quot;: {&quot;coordinates&quot;: [-85.178958, 12.855002, 0.0], &quot;type&quot;: &quot;Point&quot;}, &quot;properties&quot;: {&quot;Description&quot;: &quot;id_senal: 166627.0\\u003cbr\\u003ePK_ubica: 205.301\\u003cbr\\u003eid_tipo_senal: 10.0\\u003cbr\\u003eid_tipo_seccion: 6.0\\u003cbr\\u003eAltura: 216.536&quot;, &quot;Name&quot;: &quot;205.301&quot;}, &quot;type&quot;: &quot;Feature&quot;}, {&quot;geometry&quot;: {&quot;coordinates&quot;: [-85.178915, 12.854708, 0.0], &quot;type&quot;: &quot;Point&quot;}, &quot;properties&quot;: {&quot;Description&quot;: &quot;id_senal: 166628.0\\u003cbr\\u003ePK_ubica: 205.335\\u003cbr\\u003eid_tipo_senal: 10.0\\u003cbr\\u003eid_tipo_seccion: 6.0\\u003cbr\\u003eAltura: 211.89&quot;, &quot;Name&quot;: &quot;205.335&quot;}, &quot;type&quot;: &quot;Feature&quot;}, {&quot;geometry&quot;: {&quot;coordinates&quot;: [-85.178813, 12.853823, 0.0], &quot;type&quot;: &quot;Point&quot;}, &quot;properties&quot;: {&quot;Description&quot;: &quot;id_senal: 166629.0\\u003cbr\\u003ePK_ubica: 205.433\\u003cbr\\u003eid_tipo_senal: 10.0\\u003cbr\\u003eid_tipo_seccion: 6.0\\u003cbr\\u003eAltura: 206.268&quot;, &quot;Name&quot;: &quot;205.433&quot;}, &quot;type&quot;: &quot;Feature&quot;}, {&quot;geometry&quot;: {&quot;coordinates&quot;: [-85.178838, 12.85363, 0.0], &quot;type&quot;: &quot;Point&quot;}, &quot;properties&quot;: {&quot;Description&quot;: &quot;id_senal: 166630.0\\u003cbr\\u003ePK_ubica: 205.455\\u003cbr\\u003eid_tipo_senal: 10.0\\u003cbr\\u003eid_tipo_seccion: 6.0\\u003cbr\\u003eAltura: 202.859&quot;, &quot;Name&quot;: &quot;205.455&quot;}, &quot;type&quot;: &quot;Feature&quot;}, {&quot;geometry&quot;: {&quot;coordinates&quot;: [-85.177572, 12.850478, 0.0], &quot;type&quot;: &quot;Point&quot;}, &quot;properties&quot;: {&quot;Description&quot;: &quot;id_senal: 166637.0\\u003cbr\\u003ePK_ubica: 205.854\\u003cbr\\u003eid_tipo_senal: 10.0\\u003cbr\\u003eid_tipo_seccion: 6.0\\u003cbr\\u003eAltura: 207.16&quot;, &quot;Name&quot;: &quot;205.854&quot;}, &quot;type&quot;: &quot;Feature&quot;}, {&quot;geometry&quot;: {&quot;coordinates&quot;: [-85.175295, 12.845993, 0.0], &quot;type&quot;: &quot;Point&quot;}, &quot;properties&quot;: {&quot;Description&quot;: &quot;id_senal: 166641.0\\u003cbr\\u003ePK_ubica: 206.429\\u003cbr\\u003eid_tipo_senal: 10.0\\u003cbr\\u003eid_tipo_seccion: 6.0\\u003cbr\\u003eAltura: 207.896&quot;, &quot;Name&quot;: &quot;206.429&quot;}, &quot;type&quot;: &quot;Feature&quot;}, {&quot;geometry&quot;: {&quot;coordinates&quot;: [-85.175203, 12.845872, 0.0], &quot;type&quot;: &quot;Point&quot;}, &quot;properties&quot;: {&quot;Description&quot;: &quot;id_senal: 166642.0\\u003cbr\\u003ePK_ubica: 206.446\\u003cbr\\u003eid_tipo_senal: 10.0\\u003cbr\\u003eid_tipo_seccion: 6.0\\u003cbr\\u003eAltura: 209.376&quot;, &quot;Name&quot;: &quot;206.446&quot;}, &quot;type&quot;: &quot;Feature&quot;}, {&quot;geometry&quot;: {&quot;coordinates&quot;: [-85.17351, 12.8446, 0.0], &quot;type&quot;: &quot;Point&quot;}, &quot;properties&quot;: {&quot;Description&quot;: &quot;id_senal: 166643.0\\u003cbr\\u003ePK_ubica: 206.684\\u003cbr\\u003eid_tipo_senal: 10.0\\u003cbr\\u003eid_tipo_seccion: 6.0\\u003cbr\\u003eAltura: 243.169&quot;, &quot;Name&quot;: &quot;206.684&quot;}, &quot;type&quot;: &quot;Feature&quot;}, {&quot;geometry&quot;: {&quot;coordinates&quot;: [-85.173435, 12.844512, 0.0], &quot;type&quot;: &quot;Point&quot;}, &quot;properties&quot;: {&quot;Description&quot;: &quot;id_senal: 166644.0\\u003cbr\\u003ePK_ubica: 206.696\\u003cbr\\u003eid_tipo_senal: 10.0\\u003cbr\\u003eid_tipo_seccion: 6.0\\u003cbr\\u003eAltura: 243.811&quot;, &quot;Name&quot;: &quot;206.696&quot;}, &quot;type&quot;: &quot;Feature&quot;}, {&quot;geometry&quot;: {&quot;coordinates&quot;: [-85.170093, 12.84272, 0.0], &quot;type&quot;: &quot;Point&quot;}, &quot;properties&quot;: {&quot;Description&quot;: &quot;id_senal: 166647.0\\u003cbr\\u003ePK_ubica: 207.118\\u003cbr\\u003eid_tipo_senal: 10.0\\u003cbr\\u003eid_tipo_seccion: 6.0\\u003cbr\\u003eAltura: 238.409&quot;, &quot;Name&quot;: &quot;207.118&quot;}, &quot;type&quot;: &quot;Feature&quot;}, {&quot;geometry&quot;: {&quot;coordinates&quot;: [-85.169978, 12.842632, 0.0], &quot;type&quot;: &quot;Point&quot;}, &quot;properties&quot;: {&quot;Description&quot;: &quot;id_senal: 166648.0\\u003cbr\\u003ePK_ubica: 207.133\\u003cbr\\u003eid_tipo_senal: 10.0\\u003cbr\\u003eid_tipo_seccion: 6.0\\u003cbr\\u003eAltura: 238.01&quot;, &quot;Name&quot;: &quot;207.133&quot;}, &quot;type&quot;: &quot;Feature&quot;}, {&quot;geometry&quot;: {&quot;coordinates&quot;: [-85.16938, 12.841465, 0.0], &quot;type&quot;: &quot;Point&quot;}, &quot;properties&quot;: {&quot;Description&quot;: &quot;id_senal: 166650.0\\u003cbr\\u003ePK_ubica: 207.275\\u003cbr\\u003eid_tipo_senal: 10.0\\u003cbr\\u003eid_tipo_seccion: 6.0\\u003cbr\\u003eAltura: 235.92&quot;, &quot;Name&quot;: &quot;207.275&quot;}, &quot;type&quot;: &quot;Feature&quot;}, {&quot;geometry&quot;: {&quot;coordinates&quot;: [-85.169303, 12.84135, 0.0], &quot;type&quot;: &quot;Point&quot;}, &quot;properties&quot;: {&quot;Description&quot;: &quot;id_senal: 166651.0\\u003cbr\\u003ePK_ubica: 207.291\\u003cbr\\u003eid_tipo_senal: 10.0\\u003cbr\\u003eid_tipo_seccion: 6.0\\u003cbr\\u003eAltura: 235.778&quot;, &quot;Name&quot;: &quot;207.291&quot;}, &quot;type&quot;: &quot;Feature&quot;}, {&quot;geometry&quot;: {&quot;coordinates&quot;: [-85.167855, 12.840227, 0.0], &quot;type&quot;: &quot;Point&quot;}, &quot;properties&quot;: {&quot;Description&quot;: &quot;id_senal: 166652.0\\u003cbr\\u003ePK_ubica: 207.493\\u003cbr\\u003eid_tipo_senal: 10.0\\u003cbr\\u003eid_tipo_seccion: 6.0\\u003cbr\\u003eAltura: 230.858&quot;, &quot;Name&quot;: &quot;207.493&quot;}, &quot;type&quot;: &quot;Feature&quot;}, {&quot;geometry&quot;: {&quot;coordinates&quot;: [-85.166463, 12.839472, 0.0], &quot;type&quot;: &quot;Point&quot;}, &quot;properties&quot;: {&quot;Description&quot;: &quot;id_senal: 166653.0\\u003cbr\\u003ePK_ubica: 207.675\\u003cbr\\u003eid_tipo_senal: 10.0\\u003cbr\\u003eid_tipo_seccion: 6.0\\u003cbr\\u003eAltura: 227.998&quot;, &quot;Name&quot;: &quot;207.675&quot;}, &quot;type&quot;: &quot;Feature&quot;}, {&quot;geometry&quot;: {&quot;coordinates&quot;: [-85.166332, 12.839355, 0.0], &quot;type&quot;: &quot;Point&quot;}, &quot;properties&quot;: {&quot;Description&quot;: &quot;id_senal: 166654.0\\u003cbr\\u003ePK_ubica: 207.694\\u003cbr\\u003eid_tipo_senal: 10.0\\u003cbr\\u003eid_tipo_seccion: 6.0\\u003cbr\\u003eAltura: 228.381&quot;, &quot;Name&quot;: &quot;207.694&quot;}, &quot;type&quot;: &quot;Feature&quot;}, {&quot;geometry&quot;: {&quot;coordinates&quot;: [-85.16552, 12.838907, 0.0], &quot;type&quot;: &quot;Point&quot;}, &quot;properties&quot;: {&quot;Description&quot;: &quot;id_senal: 166655.0\\u003cbr\\u003ePK_ubica: 207.795\\u003cbr\\u003eid_tipo_senal: 10.0\\u003cbr\\u003eid_tipo_seccion: 6.0\\u003cbr\\u003eAltura: 229.707&quot;, &quot;Name&quot;: &quot;207.795&quot;}, &quot;type&quot;: &quot;Feature&quot;}, {&quot;geometry&quot;: {&quot;coordinates&quot;: [-85.165385, 12.838865, 0.0], &quot;type&quot;: &quot;Point&quot;}, &quot;properties&quot;: {&quot;Description&quot;: &quot;id_senal: 166656.0\\u003cbr\\u003ePK_ubica: 207.811\\u003cbr\\u003eid_tipo_senal: 10.0\\u003cbr\\u003eid_tipo_seccion: 6.0\\u003cbr\\u003eAltura: 229.247&quot;, &quot;Name&quot;: &quot;207.811&quot;}, &quot;type&quot;: &quot;Feature&quot;}, {&quot;geometry&quot;: {&quot;coordinates&quot;: [-85.163885, 12.838395, 0.0], &quot;type&quot;: &quot;Point&quot;}, &quot;properties&quot;: {&quot;Description&quot;: &quot;id_senal: 166657.0\\u003cbr\\u003ePK_ubica: 207.984\\u003cbr\\u003eid_tipo_senal: 10.0\\u003cbr\\u003eid_tipo_seccion: 6.0\\u003cbr\\u003eAltura: 231.592&quot;, &quot;Name&quot;: &quot;207.984&quot;}, &quot;type&quot;: &quot;Feature&quot;}, {&quot;geometry&quot;: {&quot;coordinates&quot;: [-85.163585, 12.838408, 0.0], &quot;type&quot;: &quot;Point&quot;}, &quot;properties&quot;: {&quot;Description&quot;: &quot;id_senal: 166658.0\\u003cbr\\u003ePK_ubica: 208.012\\u003cbr\\u003eid_tipo_senal: 10.0\\u003cbr\\u003eid_tipo_seccion: 6.0\\u003cbr\\u003eAltura: 230.796&quot;, &quot;Name&quot;: &quot;208.012&quot;}, &quot;type&quot;: &quot;Feature&quot;}, {&quot;geometry&quot;: {&quot;coordinates&quot;: [-85.162117, 12.837913, 0.0], &quot;type&quot;: &quot;Point&quot;}, &quot;properties&quot;: {&quot;Description&quot;: &quot;id_senal: 166659.0\\u003cbr\\u003ePK_ubica: 208.187\\u003cbr\\u003eid_tipo_senal: 10.0\\u003cbr\\u003eid_tipo_seccion: 6.0\\u003cbr\\u003eAltura: 225.191&quot;, &quot;Name&quot;: &quot;208.187&quot;}, &quot;type&quot;: &quot;Feature&quot;}, {&quot;geometry&quot;: {&quot;coordinates&quot;: [-85.161875, 12.837848, 0.0], &quot;type&quot;: &quot;Point&quot;}, &quot;properties&quot;: {&quot;Description&quot;: &quot;id_senal: 166660.0\\u003cbr\\u003ePK_ubica: 208.214\\u003cbr\\u003eid_tipo_senal: 10.0\\u003cbr\\u003eid_tipo_seccion: 6.0\\u003cbr\\u003eAltura: 224.98&quot;, &quot;Name&quot;: &quot;208.214&quot;}, &quot;type&quot;: &quot;Feature&quot;}, {&quot;geometry&quot;: {&quot;coordinates&quot;: [-85.161477, 12.837837, 0.0], &quot;type&quot;: &quot;Point&quot;}, &quot;properties&quot;: {&quot;Description&quot;: &quot;id_senal: 166661.0\\u003cbr\\u003ePK_ubica: 208.241\\u003cbr\\u003eid_tipo_senal: 10.0\\u003cbr\\u003eid_tipo_seccion: 6.0\\u003cbr\\u003eAltura: 226.676&quot;, &quot;Name&quot;: &quot;208.241&quot;}, &quot;type&quot;: &quot;Feature&quot;}, {&quot;geometry&quot;: {&quot;coordinates&quot;: [-85.161323, 12.837797, 0.0], &quot;type&quot;: &quot;Point&quot;}, &quot;properties&quot;: {&quot;Description&quot;: &quot;id_senal: 166662.0\\u003cbr\\u003ePK_ubica: 208.272\\u003cbr\\u003eid_tipo_senal: 10.0\\u003cbr\\u003eid_tipo_seccion: 6.0\\u003cbr\\u003eAltura: 227.364&quot;, &quot;Name&quot;: &quot;208.272&quot;}, &quot;type&quot;: &quot;Feature&quot;}, {&quot;geometry&quot;: {&quot;coordinates&quot;: [-85.145072, 12.811505, 0.0], &quot;type&quot;: &quot;Point&quot;}, &quot;properties&quot;: {&quot;Description&quot;: &quot;id_senal: 166663.0\\u003cbr\\u003ePK_ubica: 212.117\\u003cbr\\u003eid_tipo_senal: 10.0\\u003cbr\\u003eid_tipo_seccion: 6.0\\u003cbr\\u003eAltura: 155.739&quot;, &quot;Name&quot;: &quot;212.117&quot;}, &quot;type&quot;: &quot;Feature&quot;}, {&quot;geometry&quot;: {&quot;coordinates&quot;: [-85.145, 12.81131, 0.0], &quot;type&quot;: &quot;Point&quot;}, &quot;properties&quot;: {&quot;Description&quot;: &quot;id_senal: 166664.0\\u003cbr\\u003ePK_ubica: 212.139\\u003cbr\\u003eid_tipo_senal: 10.0\\u003cbr\\u003eid_tipo_seccion: 6.0\\u003cbr\\u003eAltura: 155.739&quot;, &quot;Name&quot;: &quot;212.139&quot;}, &quot;type&quot;: &quot;Feature&quot;}], &quot;name&quot;: &quot;layer&quot;, &quot;type&quot;: &quot;FeatureCollection&quot;});\n",
              "\n",
              "        \n",
              "    \n",
              "    geo_json_05b441f451b3a42c427f0ee0cc3b5b93.bindTooltip(\n",
              "    function(layer){\n",
              "    let div = L.DomUtil.create(&#x27;div&#x27;);\n",
              "    \n",
              "    let handleObject = feature=&gt;typeof(feature)==&#x27;object&#x27; ? JSON.stringify(feature) : feature;\n",
              "    let fields = [&quot;Name&quot;, &quot;Description&quot;];\n",
              "    let aliases = [&quot;Nombre:&quot;, &quot;Descripci\\u00f3n:&quot;];\n",
              "    let table = &#x27;&lt;table&gt;&#x27; +\n",
              "        String(\n",
              "        fields.map(\n",
              "        (v,i)=&gt;\n",
              "        `&lt;tr&gt;\n",
              "            &lt;th&gt;${aliases[i]}&lt;/th&gt;\n",
              "            \n",
              "            &lt;td&gt;${handleObject(layer.feature.properties[v])}&lt;/td&gt;\n",
              "        &lt;/tr&gt;`).join(&#x27;&#x27;))\n",
              "    +&#x27;&lt;/table&gt;&#x27;;\n",
              "    div.innerHTML=table;\n",
              "    \n",
              "    return div\n",
              "    }\n",
              "    ,{&quot;className&quot;: &quot;foliumtooltip&quot;, &quot;sticky&quot;: true});\n",
              "                     \n",
              "    \n",
              "            var layer_control_4e58c8576b9bf3c1f67802eaf57f2a49 = {\n",
              "                base_layers : {\n",
              "                    &quot;openstreetmap&quot; : tile_layer_10dfdf90e3c26c63ca0a37834773c8fd,\n",
              "                },\n",
              "                overlays :  {\n",
              "                    &quot;GeoJSON data&quot; : geo_json_05b441f451b3a42c427f0ee0cc3b5b93,\n",
              "                },\n",
              "            };\n",
              "            L.control.layers(\n",
              "                layer_control_4e58c8576b9bf3c1f67802eaf57f2a49.base_layers,\n",
              "                layer_control_4e58c8576b9bf3c1f67802eaf57f2a49.overlays,\n",
              "                {&quot;autoZIndex&quot;: true, &quot;collapsed&quot;: true, &quot;position&quot;: &quot;topright&quot;}\n",
              "            ).addTo(map_3b80ba88650c6724ecb26415b9a66c01);\n",
              "        \n",
              "&lt;/script&gt;\n",
              "&lt;/html&gt;\" style=\"position:absolute;width:100%;height:100%;left:0;top:0;border:none !important;\" allowfullscreen webkitallowfullscreen mozallowfullscreen></iframe></div></div>"
            ]
          },
          "metadata": {},
          "execution_count": 38
        }
      ]
    }
  ]
}