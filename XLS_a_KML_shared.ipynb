{
  "nbformat": 4,
  "nbformat_minor": 0,
  "metadata": {
    "colab": {
      "provenance": [],
      "collapsed_sections": [
        "H3AooTcS7eDM",
        "iJIIdPH-4vdo",
        "2FGtJkjZINs2"
      ],
      "authorship_tag": "ABX9TyNdwJ1fyPPmQXFXdgBKpQdq",
      "include_colab_link": true
    },
    "kernelspec": {
      "name": "python3",
      "display_name": "Python 3"
    },
    "language_info": {
      "name": "python"
    }
  },
  "cells": [
    {
      "cell_type": "markdown",
      "metadata": {
        "id": "view-in-github",
        "colab_type": "text"
      },
      "source": [
        "<a href=\"https://colab.research.google.com/github/germancruzram/EXCEL-TO-KML/blob/main/XLS_a_KML_shared.ipynb\" target=\"_parent\"><img src=\"https://colab.research.google.com/assets/colab-badge.svg\" alt=\"Open In Colab\"/></a>"
      ]
    },
    {
      "cell_type": "markdown",
      "source": [
        "# **CUADERNO EN COLAB PARA CREAR UN KML PARTIENDO DE UNA TABLA EXCEL CON COORDENADAS GEOGRAFICAS EN GRADOS DECIMALES.**\n",
        "\n",
        "**✍ German Cruz Ramírez. 🇳**"
      ],
      "metadata": {
        "id": "A61R9GtZFfrn"
      }
    },
    {
      "cell_type": "markdown",
      "source": [
        "# **1. PREPAREMOS LAS LIBRERIAS A UTILIZAR**"
      ],
      "metadata": {
        "id": "H3AooTcS7eDM"
      }
    },
    {
      "cell_type": "code",
      "source": [
        "!pip install simplekml\n",
        "!pip install folium\n",
        "!pip install gdal\n",
        "import pandas as pd\n",
        "import simplekml\n",
        "import os\n",
        "import json"
      ],
      "metadata": {
        "id": "IH6HkRdZ7c8W",
        "colab": {
          "base_uri": "https://localhost:8080/"
        },
        "outputId": "52dc3a97-c5f6-4348-ad55-7054e4554b61"
      },
      "execution_count": 1,
      "outputs": [
        {
          "output_type": "stream",
          "name": "stdout",
          "text": [
            "Collecting simplekml\n",
            "  Downloading simplekml-1.3.6.tar.gz (52 kB)\n",
            "\u001b[?25l     \u001b[90m━━━━━━━━━━━━━━━━━━━━━━━━━━━━━━━━━━━━━━━━\u001b[0m \u001b[32m0.0/53.0 kB\u001b[0m \u001b[31m?\u001b[0m eta \u001b[36m-:--:--\u001b[0m\r\u001b[2K     \u001b[90m━━━━━━━━━━━━━━━━━━━━━━━━━━━━━━━━━━━━━━━━\u001b[0m \u001b[32m53.0/53.0 kB\u001b[0m \u001b[31m1.9 MB/s\u001b[0m eta \u001b[36m0:00:00\u001b[0m\n",
            "\u001b[?25h  Preparing metadata (setup.py) ... \u001b[?25l\u001b[?25hdone\n",
            "Building wheels for collected packages: simplekml\n",
            "  Building wheel for simplekml (setup.py) ... \u001b[?25l\u001b[?25hdone\n",
            "  Created wheel for simplekml: filename=simplekml-1.3.6-py3-none-any.whl size=65860 sha256=9fde56d0ad5e5fcee9fc8ad08c4d911980f95045e78bd037d7868078063db0e2\n",
            "  Stored in directory: /root/.cache/pip/wheels/16/7c/e6/621a95f24bd1ff987368f1c37881ffe013433ff6b413d87fcb\n",
            "Successfully built simplekml\n",
            "Installing collected packages: simplekml\n",
            "Successfully installed simplekml-1.3.6\n",
            "Requirement already satisfied: folium in /usr/local/lib/python3.10/dist-packages (0.14.0)\n",
            "Requirement already satisfied: branca>=0.6.0 in /usr/local/lib/python3.10/dist-packages (from folium) (0.7.2)\n",
            "Requirement already satisfied: jinja2>=2.9 in /usr/local/lib/python3.10/dist-packages (from folium) (3.1.3)\n",
            "Requirement already satisfied: numpy in /usr/local/lib/python3.10/dist-packages (from folium) (1.25.2)\n",
            "Requirement already satisfied: requests in /usr/local/lib/python3.10/dist-packages (from folium) (2.31.0)\n",
            "Requirement already satisfied: MarkupSafe>=2.0 in /usr/local/lib/python3.10/dist-packages (from jinja2>=2.9->folium) (2.1.5)\n",
            "Requirement already satisfied: charset-normalizer<4,>=2 in /usr/local/lib/python3.10/dist-packages (from requests->folium) (3.3.2)\n",
            "Requirement already satisfied: idna<4,>=2.5 in /usr/local/lib/python3.10/dist-packages (from requests->folium) (3.7)\n",
            "Requirement already satisfied: urllib3<3,>=1.21.1 in /usr/local/lib/python3.10/dist-packages (from requests->folium) (2.0.7)\n",
            "Requirement already satisfied: certifi>=2017.4.17 in /usr/local/lib/python3.10/dist-packages (from requests->folium) (2024.2.2)\n",
            "Requirement already satisfied: gdal in /usr/local/lib/python3.10/dist-packages (3.6.4)\n"
          ]
        }
      ]
    },
    {
      "cell_type": "markdown",
      "source": [
        "# **2. CREAREMOS LAS CARPETAS XLS Y KML**"
      ],
      "metadata": {
        "id": "iJIIdPH-4vdo"
      }
    },
    {
      "cell_type": "code",
      "execution_count": 2,
      "metadata": {
        "colab": {
          "base_uri": "https://localhost:8080/"
        },
        "id": "4Gtgbiix4f4b",
        "outputId": "d885a890-55bb-4e29-a252-2b659fc104b5"
      },
      "outputs": [
        {
          "output_type": "stream",
          "name": "stdout",
          "text": [
            "Creada la carpeta \"XLS, ahora puedes subir la tabla con coordenadas\"\n",
            "Creada la carpeta \"KML\"\n"
          ]
        }
      ],
      "source": [
        "carpeta_xls = \"XLS\"\n",
        "carpeta_kml = \"KML\"\n",
        "\n",
        "\n",
        "if not os.path.exists(carpeta_xls):\n",
        "    os.makedirs(carpeta_xls)\n",
        "    print(f'Creada la carpeta \"{carpeta_xls}, ahora puedes subir la tabla con coordenadas\"')\n",
        "else:\n",
        "    print(f'La carpeta \"{carpeta_xls}\" ya existe y puedes subir la tabla con coordenadas')\n",
        "\n",
        "if not os.path.exists(carpeta_kml):\n",
        "    os.makedirs(carpeta_kml)\n",
        "    print(f'Creada la carpeta \"{carpeta_kml}\"')\n",
        "else:\n",
        "    print(f'La carpeta \"{carpeta_kml}\" ya existe')\n"
      ]
    },
    {
      "cell_type": "markdown",
      "source": [
        "**💡 Recuerda que la tabla excel debe contener el campo \"Latitud\" y \"Longitud**"
      ],
      "metadata": {
        "id": "El5re9eM5GAj"
      }
    },
    {
      "cell_type": "markdown",
      "source": [
        "# **3. PROCESANDO LA INFORMACION PARA CREAR EL KML**"
      ],
      "metadata": {
        "id": "inEqRR1kFDvz"
      }
    },
    {
      "cell_type": "code",
      "source": [
        "carpeta_xls = \"/content/XLS\"\n",
        "carpeta_kml = \"/content/KML\"\n",
        "nombre_campo = input(\"Por favor, ingresa el nombre del campo para el nombre de los puntos en el KML: \")\n",
        "archivos_xls = [archivo for archivo in os.listdir(carpeta_xls) if archivo.endswith('.xlsx') or archivo.endswith('.xls')]\n",
        "\n",
        "for nombre_archivo in archivos_xls:\n",
        "    ruta_excel = os.path.join(carpeta_xls, nombre_archivo)\n",
        "    df = pd.read_excel(ruta_excel)\n",
        "\n",
        "    kml = simplekml.Kml()\n",
        "\n",
        "    for idx, fila in df.iterrows():\n",
        "        descripcion = '<br>'.join([f'{col}: {fila[col]}' for col in df.columns if col not in ['Latitud', 'Longitud']])\n",
        "        nombre_punto = fila.get(nombre_campo, \"Sin información\")\n",
        "        punto = kml.newpoint(name=nombre_punto, coords=[(fila['Longitud'], fila['Latitud'])])\n",
        "        punto.description = descripcion\n",
        "\n",
        "    nombre_kml = nombre_archivo.replace('.xlsx', '.kml').replace('.xls', '.kml')\n",
        "    ruta_kml = os.path.join(carpeta_kml, nombre_kml)\n",
        "    kml.save(ruta_kml)\n",
        "    print(f\"Archivo KML guardado en: {ruta_kml}\")"
      ],
      "metadata": {
        "colab": {
          "base_uri": "https://localhost:8080/"
        },
        "id": "6f5tfmTcFPlz",
        "outputId": "19379490-e9e9-4681-ec5a-4a8dbd6d81b1"
      },
      "execution_count": 3,
      "outputs": [
        {
          "output_type": "stream",
          "name": "stdout",
          "text": [
            "Por favor, ingresa el nombre del campo para el nombre de los puntos en el KML: Nombre\n",
            "Archivo KML guardado en: /content/KML/tabla_demo.kml\n"
          ]
        }
      ]
    },
    {
      "cell_type": "markdown",
      "source": [
        "# **4. CREAR UNA VISTA GIS EN COLAB**"
      ],
      "metadata": {
        "id": "Z5DT6QwdIKIy"
      }
    },
    {
      "cell_type": "code",
      "source": [
        "import folium\n",
        "import os\n",
        "from osgeo import ogr\n",
        "\n",
        "def kml_to_geojson(kml_path, geojson_path):\n",
        "    driver = ogr.GetDriverByName('KML')\n",
        "    data = driver.Open(kml_path)\n",
        "    if data is None:\n",
        "        raise Exception(f\"Error al abrir el archivo KML: {kml_path}\")\n",
        "    layer = data.GetLayer()\n",
        "    driver = ogr.GetDriverByName('GeoJSON')\n",
        "    if os.path.exists(geojson_path):\n",
        "        driver.DeleteDataSource(geojson_path)\n",
        "    outData = driver.CreateDataSource(geojson_path)\n",
        "    outLayer = outData.CreateLayer('layer', geom_type=ogr.wkbMultiPolygon)\n",
        "    layerDefn = layer.GetLayerDefn()\n",
        "    for i in range(layerDefn.GetFieldCount()):\n",
        "        fieldDefn = layerDefn.GetFieldDefn(i)\n",
        "        outLayer.CreateField(fieldDefn)\n",
        "    outLayerDefn = outLayer.GetLayerDefn()\n",
        "    for feature in layer:\n",
        "        geom = feature.GetGeometryRef()\n",
        "        outFeature = ogr.Feature(outLayerDefn)\n",
        "        outFeature.SetGeometry(geom)\n",
        "        for i in range(0, outLayerDefn.GetFieldCount()):\n",
        "            outFeature.SetField(outLayerDefn.GetFieldDefn(i).GetNameRef(), feature.GetField(i))\n",
        "        outLayer.CreateFeature(outFeature)\n",
        "        outFeature = None\n",
        "    outData = None\n",
        "\n",
        "carpeta_kml = \"/content/KML\"\n",
        "\n",
        "archivos_kml = [archivo for archivo in os.listdir(carpeta_kml) if archivo.endswith('.kml')]\n",
        "if not archivos_kml:\n",
        "    raise Exception(\"No se encontraron archivos KML en la carpeta especificada.\")\n",
        "\n",
        "nombre_kml = archivos_kml[0]\n",
        "nombre_geojson = nombre_kml.replace('.kml', '.geojson')\n",
        "ruta_kml = os.path.join(carpeta_kml, nombre_kml)\n",
        "ruta_geojson = os.path.join(carpeta_kml, nombre_geojson)\n",
        "kml_to_geojson(ruta_kml, ruta_geojson)\n",
        "m = folium.Map(location=[0, 0], zoom_start=2)\n",
        "\n",
        "def add_popups(feature):\n",
        "    properties = feature['properties']\n",
        "    html = '<br>'.join([f'{key}: {value}' for key, value in properties.items()])\n",
        "    return folium.Popup(html)\n",
        "\n",
        "folium.GeoJson(\n",
        "    ruta_geojson,\n",
        "    name=\"GeoJSON data\",\n",
        "    style_function=lambda feature: {\n",
        "        'fillColor': '#ffff00',\n",
        "        'color': 'black',\n",
        "        'weight': 2,\n",
        "        'dashArray': '5, 5'\n",
        "    },\n",
        "    tooltip=folium.GeoJsonTooltip(\n",
        "        fields=['Name', 'Description'],\n",
        "        aliases=['Nombre:', 'Descripción:']\n",
        "    ),\n",
        "    popup=add_popups\n",
        ").add_to(m)\n",
        "\n",
        "folium.LayerControl().add_to(m)\n",
        "m"
      ],
      "metadata": {
        "id": "_LhPBlyR-mU3",
        "colab": {
          "base_uri": "https://localhost:8080/",
          "height": 915
        },
        "outputId": "0a5141d5-9638-403e-b19e-f7298a721a66"
      },
      "execution_count": 7,
      "outputs": [
        {
          "output_type": "execute_result",
          "data": {
            "text/plain": [
              "<folium.folium.Map at 0x7d968d16ca90>"
            ],
            "text/html": [
              "<div style=\"width:100%;\"><div style=\"position:relative;width:100%;height:0;padding-bottom:60%;\"><span style=\"color:#565656\">Make this Notebook Trusted to load map: File -> Trust Notebook</span><iframe srcdoc=\"&lt;!DOCTYPE html&gt;\n",
              "&lt;html&gt;\n",
              "&lt;head&gt;\n",
              "    \n",
              "    &lt;meta http-equiv=&quot;content-type&quot; content=&quot;text/html; charset=UTF-8&quot; /&gt;\n",
              "    \n",
              "        &lt;script&gt;\n",
              "            L_NO_TOUCH = false;\n",
              "            L_DISABLE_3D = false;\n",
              "        &lt;/script&gt;\n",
              "    \n",
              "    &lt;style&gt;html, body {width: 100%;height: 100%;margin: 0;padding: 0;}&lt;/style&gt;\n",
              "    &lt;style&gt;#map {position:absolute;top:0;bottom:0;right:0;left:0;}&lt;/style&gt;\n",
              "    &lt;script src=&quot;https://cdn.jsdelivr.net/npm/leaflet@1.9.3/dist/leaflet.js&quot;&gt;&lt;/script&gt;\n",
              "    &lt;script src=&quot;https://code.jquery.com/jquery-1.12.4.min.js&quot;&gt;&lt;/script&gt;\n",
              "    &lt;script src=&quot;https://cdn.jsdelivr.net/npm/bootstrap@5.2.2/dist/js/bootstrap.bundle.min.js&quot;&gt;&lt;/script&gt;\n",
              "    &lt;script src=&quot;https://cdnjs.cloudflare.com/ajax/libs/Leaflet.awesome-markers/2.0.2/leaflet.awesome-markers.js&quot;&gt;&lt;/script&gt;\n",
              "    &lt;link rel=&quot;stylesheet&quot; href=&quot;https://cdn.jsdelivr.net/npm/leaflet@1.9.3/dist/leaflet.css&quot;/&gt;\n",
              "    &lt;link rel=&quot;stylesheet&quot; href=&quot;https://cdn.jsdelivr.net/npm/bootstrap@5.2.2/dist/css/bootstrap.min.css&quot;/&gt;\n",
              "    &lt;link rel=&quot;stylesheet&quot; href=&quot;https://netdna.bootstrapcdn.com/bootstrap/3.0.0/css/bootstrap.min.css&quot;/&gt;\n",
              "    &lt;link rel=&quot;stylesheet&quot; href=&quot;https://cdn.jsdelivr.net/npm/@fortawesome/fontawesome-free@6.2.0/css/all.min.css&quot;/&gt;\n",
              "    &lt;link rel=&quot;stylesheet&quot; href=&quot;https://cdnjs.cloudflare.com/ajax/libs/Leaflet.awesome-markers/2.0.2/leaflet.awesome-markers.css&quot;/&gt;\n",
              "    &lt;link rel=&quot;stylesheet&quot; href=&quot;https://cdn.jsdelivr.net/gh/python-visualization/folium/folium/templates/leaflet.awesome.rotate.min.css&quot;/&gt;\n",
              "    \n",
              "            &lt;meta name=&quot;viewport&quot; content=&quot;width=device-width,\n",
              "                initial-scale=1.0, maximum-scale=1.0, user-scalable=no&quot; /&gt;\n",
              "            &lt;style&gt;\n",
              "                #map_6d126ce3342e4d5383dca03fdc49479c {\n",
              "                    position: relative;\n",
              "                    width: 100.0%;\n",
              "                    height: 100.0%;\n",
              "                    left: 0.0%;\n",
              "                    top: 0.0%;\n",
              "                }\n",
              "                .leaflet-container { font-size: 1rem; }\n",
              "            &lt;/style&gt;\n",
              "        \n",
              "    \n",
              "                    &lt;style&gt;\n",
              "                        .foliumtooltip {\n",
              "                            \n",
              "                        }\n",
              "                       .foliumtooltip table{\n",
              "                            margin: auto;\n",
              "                        }\n",
              "                        .foliumtooltip tr{\n",
              "                            text-align: left;\n",
              "                        }\n",
              "                        .foliumtooltip th{\n",
              "                            padding: 2px; padding-right: 8px;\n",
              "                        }\n",
              "                    &lt;/style&gt;\n",
              "            \n",
              "&lt;/head&gt;\n",
              "&lt;body&gt;\n",
              "    \n",
              "    \n",
              "            &lt;div class=&quot;folium-map&quot; id=&quot;map_6d126ce3342e4d5383dca03fdc49479c&quot; &gt;&lt;/div&gt;\n",
              "        \n",
              "&lt;/body&gt;\n",
              "&lt;script&gt;\n",
              "    \n",
              "    \n",
              "            var map_6d126ce3342e4d5383dca03fdc49479c = L.map(\n",
              "                &quot;map_6d126ce3342e4d5383dca03fdc49479c&quot;,\n",
              "                {\n",
              "                    center: [0.0, 0.0],\n",
              "                    crs: L.CRS.EPSG3857,\n",
              "                    zoom: 2,\n",
              "                    zoomControl: true,\n",
              "                    preferCanvas: false,\n",
              "                }\n",
              "            );\n",
              "\n",
              "            \n",
              "\n",
              "        \n",
              "    \n",
              "            var tile_layer_e8e9e44defce4f7bfb867b5cbad2d05e = L.tileLayer(\n",
              "                &quot;https://{s}.tile.openstreetmap.org/{z}/{x}/{y}.png&quot;,\n",
              "                {&quot;attribution&quot;: &quot;Data by \\u0026copy; \\u003ca target=\\&quot;_blank\\&quot; href=\\&quot;http://openstreetmap.org\\&quot;\\u003eOpenStreetMap\\u003c/a\\u003e, under \\u003ca target=\\&quot;_blank\\&quot; href=\\&quot;http://www.openstreetmap.org/copyright\\&quot;\\u003eODbL\\u003c/a\\u003e.&quot;, &quot;detectRetina&quot;: false, &quot;maxNativeZoom&quot;: 18, &quot;maxZoom&quot;: 18, &quot;minZoom&quot;: 0, &quot;noWrap&quot;: false, &quot;opacity&quot;: 1, &quot;subdomains&quot;: &quot;abc&quot;, &quot;tms&quot;: false}\n",
              "            ).addTo(map_6d126ce3342e4d5383dca03fdc49479c);\n",
              "        \n",
              "    \n",
              "        function geo_json_f083fdf182cb4b7ad0915bb8c3fa3381_styler(feature) {\n",
              "            switch(feature.properties.Name) {\n",
              "                default:\n",
              "                    return {&quot;color&quot;: &quot;black&quot;, &quot;dashArray&quot;: &quot;5, 5&quot;, &quot;fillColor&quot;: &quot;#ffff00&quot;, &quot;weight&quot;: 2};\n",
              "            }\n",
              "        }\n",
              "\n",
              "        function geo_json_f083fdf182cb4b7ad0915bb8c3fa3381_onEachFeature(feature, layer) {\n",
              "            layer.on({\n",
              "            });\n",
              "        };\n",
              "        var geo_json_f083fdf182cb4b7ad0915bb8c3fa3381 = L.geoJson(null, {\n",
              "                onEachFeature: geo_json_f083fdf182cb4b7ad0915bb8c3fa3381_onEachFeature,\n",
              "            \n",
              "                style: geo_json_f083fdf182cb4b7ad0915bb8c3fa3381_styler,\n",
              "        });\n",
              "\n",
              "        function geo_json_f083fdf182cb4b7ad0915bb8c3fa3381_add (data) {\n",
              "            geo_json_f083fdf182cb4b7ad0915bb8c3fa3381\n",
              "                .addData(data)\n",
              "                .addTo(map_6d126ce3342e4d5383dca03fdc49479c);\n",
              "        }\n",
              "            geo_json_f083fdf182cb4b7ad0915bb8c3fa3381_add({&quot;features&quot;: [{&quot;geometry&quot;: {&quot;coordinates&quot;: [-86.70133, 13.460719, 0.0], &quot;type&quot;: &quot;Point&quot;}, &quot;properties&quot;: {&quot;Description&quot;: &quot;Nombre: Ca\\u00f1\\u00f3n de Somoto&quot;, &quot;Name&quot;: &quot;Ca\\u00f1\\u00f3n de Somoto&quot;}, &quot;type&quot;: &quot;Feature&quot;}, {&quot;geometry&quot;: {&quot;coordinates&quot;: [-83.677619, 12.340676, 0.0], &quot;type&quot;: &quot;Point&quot;}, &quot;properties&quot;: {&quot;Description&quot;: &quot;Nombre: Laguna de Perlas&quot;, &quot;Name&quot;: &quot;Laguna de Perlas&quot;}, &quot;type&quot;: &quot;Feature&quot;}, {&quot;geometry&quot;: {&quot;coordinates&quot;: [-86.166453, 11.986802, 0.0], &quot;type&quot;: &quot;Point&quot;}, &quot;properties&quot;: {&quot;Description&quot;: &quot;Nombre: Parque Volc\\u00e1n Masaya&quot;, &quot;Name&quot;: &quot;Parque Volc\\u00e1n Masaya&quot;}, &quot;type&quot;: &quot;Feature&quot;}, {&quot;geometry&quot;: {&quot;coordinates&quot;: [-85.875509, 11.259395, 0.0], &quot;type&quot;: &quot;Point&quot;}, &quot;properties&quot;: {&quot;Description&quot;: &quot;Nombre: San Juan del Sur&quot;, &quot;Name&quot;: &quot;San Juan del Sur&quot;}, &quot;type&quot;: &quot;Feature&quot;}], &quot;name&quot;: &quot;layer&quot;, &quot;type&quot;: &quot;FeatureCollection&quot;});\n",
              "\n",
              "        \n",
              "    \n",
              "    geo_json_f083fdf182cb4b7ad0915bb8c3fa3381.bindTooltip(\n",
              "    function(layer){\n",
              "    let div = L.DomUtil.create(&#x27;div&#x27;);\n",
              "    \n",
              "    let handleObject = feature=&gt;typeof(feature)==&#x27;object&#x27; ? JSON.stringify(feature) : feature;\n",
              "    let fields = [&quot;Name&quot;, &quot;Description&quot;];\n",
              "    let aliases = [&quot;Nombre:&quot;, &quot;Descripci\\u00f3n:&quot;];\n",
              "    let table = &#x27;&lt;table&gt;&#x27; +\n",
              "        String(\n",
              "        fields.map(\n",
              "        (v,i)=&gt;\n",
              "        `&lt;tr&gt;\n",
              "            &lt;th&gt;${aliases[i]}&lt;/th&gt;\n",
              "            \n",
              "            &lt;td&gt;${handleObject(layer.feature.properties[v])}&lt;/td&gt;\n",
              "        &lt;/tr&gt;`).join(&#x27;&#x27;))\n",
              "    +&#x27;&lt;/table&gt;&#x27;;\n",
              "    div.innerHTML=table;\n",
              "    \n",
              "    return div\n",
              "    }\n",
              "    ,{&quot;className&quot;: &quot;foliumtooltip&quot;, &quot;sticky&quot;: true});\n",
              "                     \n",
              "    \n",
              "            var layer_control_e374d36485b35a49ac7515c535e20bc6 = {\n",
              "                base_layers : {\n",
              "                    &quot;openstreetmap&quot; : tile_layer_e8e9e44defce4f7bfb867b5cbad2d05e,\n",
              "                },\n",
              "                overlays :  {\n",
              "                    &quot;GeoJSON data&quot; : geo_json_f083fdf182cb4b7ad0915bb8c3fa3381,\n",
              "                },\n",
              "            };\n",
              "            L.control.layers(\n",
              "                layer_control_e374d36485b35a49ac7515c535e20bc6.base_layers,\n",
              "                layer_control_e374d36485b35a49ac7515c535e20bc6.overlays,\n",
              "                {&quot;autoZIndex&quot;: true, &quot;collapsed&quot;: true, &quot;position&quot;: &quot;topright&quot;}\n",
              "            ).addTo(map_6d126ce3342e4d5383dca03fdc49479c);\n",
              "        \n",
              "&lt;/script&gt;\n",
              "&lt;/html&gt;\" style=\"position:absolute;width:100%;height:100%;left:0;top:0;border:none !important;\" allowfullscreen webkitallowfullscreen mozallowfullscreen></iframe></div></div>"
            ]
          },
          "metadata": {},
          "execution_count": 7
        }
      ]
    },
    {
      "cell_type": "markdown",
      "source": [
        "# **5. BORRAR EL CONTENIDO PARA PROCESAR OTRA TABLA EXCEL**"
      ],
      "metadata": {
        "id": "2FGtJkjZINs2"
      }
    },
    {
      "cell_type": "code",
      "source": [
        "from pathlib import Path\n",
        "\n",
        "def eliminar_contenido_carpeta(path):\n",
        "    carpeta = Path(path)\n",
        "\n",
        "    if carpeta.exists():\n",
        "        [elemento.unlink() for elemento in carpeta.iterdir() if elemento.is_file() or elemento.is_symlink()]\n",
        "\n",
        "carpeta_kml = \"/content/KML\"\n",
        "carpeta_xls = \"/content/XLS\"\n",
        "\n",
        "eliminar_contenido_carpeta(carpeta_kml)\n",
        "eliminar_contenido_carpeta(carpeta_xls)\n",
        "\n",
        "print(\"El contenido de las carpetas KML y XLS ha sido eliminado.\")\n"
      ],
      "metadata": {
        "colab": {
          "base_uri": "https://localhost:8080/"
        },
        "id": "WhgmmrEJINdg",
        "outputId": "2c91338c-31d1-4045-f333-a00ef0c0f719"
      },
      "execution_count": null,
      "outputs": [
        {
          "output_type": "stream",
          "name": "stdout",
          "text": [
            "El contenido de las carpetas KML y XLS ha sido eliminado.\n"
          ]
        }
      ]
    }
  ]
}