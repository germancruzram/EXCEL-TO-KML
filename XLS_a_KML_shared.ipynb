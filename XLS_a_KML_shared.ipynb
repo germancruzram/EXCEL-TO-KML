{
  "nbformat": 4,
  "nbformat_minor": 0,
  "metadata": {
    "colab": {
      "provenance": [],
      "authorship_tag": "ABX9TyPBxrmRlS070ilBRNd0uiTt",
      "include_colab_link": true
    },
    "kernelspec": {
      "name": "python3",
      "display_name": "Python 3"
    },
    "language_info": {
      "name": "python"
    }
  },
  "cells": [
    {
      "cell_type": "markdown",
      "metadata": {
        "id": "view-in-github",
        "colab_type": "text"
      },
      "source": [
        "<a href=\"https://colab.research.google.com/github/germancruzram/EXCEL-TO-KML/blob/main/XLS_a_KML_shared.ipynb\" target=\"_parent\"><img src=\"https://colab.research.google.com/assets/colab-badge.svg\" alt=\"Open In Colab\"/></a>"
      ]
    },
    {
      "cell_type": "markdown",
      "source": [
        "# **CUADERNO EN COLAB PARA CREAR UN KML PARTIENDO DE UNA TABLA EXCEL CON COORDENADAS GEOGRAFICAS EN GRADOS DECIMALES.**\n",
        "\n",
        "**Elaborado por: German Ahmed Cruz Ramírez. 🇳**"
      ],
      "metadata": {
        "id": "A61R9GtZFfrn"
      }
    },
    {
      "cell_type": "markdown",
      "source": [
        "**1. Preparemos el ambiente de trabajo, cargando las librerias python a utilizar**"
      ],
      "metadata": {
        "id": "H3AooTcS7eDM"
      }
    },
    {
      "cell_type": "code",
      "source": [
        "!pip install simplekml\n",
        "!pip install folium\n",
        "!pip install gdal\n",
        "import pandas as pd\n",
        "import simplekml\n",
        "import os\n",
        "import json\n",
        "from osgeo import ogr\n"
      ],
      "metadata": {
        "id": "IH6HkRdZ7c8W"
      },
      "execution_count": null,
      "outputs": []
    },
    {
      "cell_type": "markdown",
      "source": [
        "**2. CREAREMOS LAS CARPETAS PARA SUBIR LA TABLA EXCEL CON COORDENADAS Y LA CARPETA DE SALIDA KML**"
      ],
      "metadata": {
        "id": "iJIIdPH-4vdo"
      }
    },
    {
      "cell_type": "code",
      "execution_count": null,
      "metadata": {
        "colab": {
          "base_uri": "https://localhost:8080/"
        },
        "id": "4Gtgbiix4f4b",
        "outputId": "0332264b-aca0-45c0-8edd-5ddeddaa6910"
      },
      "outputs": [
        {
          "output_type": "stream",
          "name": "stdout",
          "text": [
            "La carpeta \"XLS\" ya existe y puedes subir la tabla con coordenadas\n",
            "La carpeta \"KML\" ya existe\n"
          ]
        }
      ],
      "source": [
        "import os\n",
        "\n",
        "carpeta_xls = \"XLS\"\n",
        "carpeta_kml = \"KML\"\n",
        "\n",
        "\n",
        "if not os.path.exists(carpeta_xls):\n",
        "    os.makedirs(carpeta_xls)\n",
        "    print(f'Creada la carpeta \"{carpeta_xls}, ahora puedes subir la tabla con coordenadas\"')\n",
        "else:\n",
        "    print(f'La carpeta \"{carpeta_xls}\" ya existe y puedes subir la tabla con coordenadas')\n",
        "\n",
        "if not os.path.exists(carpeta_kml):\n",
        "    os.makedirs(carpeta_kml)\n",
        "    print(f'Creada la carpeta \"{carpeta_kml}\"')\n",
        "else:\n",
        "    print(f'La carpeta \"{carpeta_kml}\" ya existe')\n"
      ]
    },
    {
      "cell_type": "markdown",
      "source": [
        "**💡 RECUERDA QUE LA TABLA EXCEL DEBE CONTENER UNA COLUMNA \"LATITUD\" Y \"LONGITUD\" EN GRADOS DECIMALES**"
      ],
      "metadata": {
        "id": "El5re9eM5GAj"
      }
    },
    {
      "cell_type": "markdown",
      "source": [
        "**3. PROCESANDO LA INFORMACION PARA CREAR EL KML**"
      ],
      "metadata": {
        "id": "inEqRR1kFDvz"
      }
    },
    {
      "cell_type": "code",
      "source": [
        "import pandas as pd\n",
        "import simplekml\n",
        "import os\n",
        "\n",
        "\n",
        "carpeta_xls = \"/content/XLS\"\n",
        "carpeta_kml = \"/content/KML\"\n",
        "nombre_campo = input(\"Por favor, ingresa el nombre del campo para el nombre de los puntos en el KML: \")\n",
        "archivos_xls = [archivo for archivo in os.listdir(carpeta_xls) if archivo.endswith('.xlsx') or archivo.endswith('.xls')]\n",
        "\n",
        "for nombre_archivo in archivos_xls:\n",
        "    ruta_excel = os.path.join(carpeta_xls, nombre_archivo)\n",
        "    df = pd.read_excel(ruta_excel)\n",
        "\n",
        "    kml = simplekml.Kml()\n",
        "\n",
        "    for idx, fila in df.iterrows():\n",
        "        descripcion = '<br>'.join([f'{col}: {fila[col]}' for col in df.columns if col not in ['Latitud', 'Longitud']])\n",
        "        nombre_punto = fila.get(nombre_campo, \"Sin información\")\n",
        "        punto = kml.newpoint(name=nombre_punto, coords=[(fila['Longitud'], fila['Latitud'])])\n",
        "        punto.description = descripcion\n",
        "\n",
        "    nombre_kml = nombre_archivo.replace('.xlsx', '.kml').replace('.xls', '.kml')\n",
        "    ruta_kml = os.path.join(carpeta_kml, nombre_kml)\n",
        "    kml.save(ruta_kml)\n",
        "    print(f\"Archivo KML guardado en: {ruta_kml}\")"
      ],
      "metadata": {
        "colab": {
          "base_uri": "https://localhost:8080/"
        },
        "id": "6f5tfmTcFPlz",
        "outputId": "25730438-b530-4e89-a4d0-2dd557f3a17e"
      },
      "execution_count": null,
      "outputs": [
        {
          "output_type": "stream",
          "name": "stdout",
          "text": [
            "Por favor, ingresa el nombre del campo para el nombre de los puntos en el KML: PK_ubica\n",
            "Archivo KML guardado en: /content/KML/signal.kml\n"
          ]
        }
      ]
    },
    {
      "cell_type": "markdown",
      "source": [
        "**4. CREAR UNA VISTA GIS EN COLAB**"
      ],
      "metadata": {
        "id": "Z5DT6QwdIKIy"
      }
    },
    {
      "cell_type": "code",
      "source": [
        "import folium\n",
        "import os\n",
        "from osgeo import ogr\n",
        "\n",
        "def kml_to_geojson(kml_path, geojson_path):\n",
        "    driver = ogr.GetDriverByName('KML')\n",
        "    data = driver.Open(kml_path)\n",
        "    if data is None:\n",
        "        raise Exception(f\"Error al abrir el archivo KML: {kml_path}\")\n",
        "    layer = data.GetLayer()\n",
        "    driver = ogr.GetDriverByName('GeoJSON')\n",
        "    if os.path.exists(geojson_path):\n",
        "        driver.DeleteDataSource(geojson_path)\n",
        "    outData = driver.CreateDataSource(geojson_path)\n",
        "    outLayer = outData.CreateLayer('layer', geom_type=ogr.wkbMultiPolygon)\n",
        "    layerDefn = layer.GetLayerDefn()\n",
        "    for i in range(layerDefn.GetFieldCount()):\n",
        "        fieldDefn = layerDefn.GetFieldDefn(i)\n",
        "        outLayer.CreateField(fieldDefn)\n",
        "    outLayerDefn = outLayer.GetLayerDefn()\n",
        "    for feature in layer:\n",
        "        geom = feature.GetGeometryRef()\n",
        "        outFeature = ogr.Feature(outLayerDefn)\n",
        "        outFeature.SetGeometry(geom)\n",
        "        for i in range(0, outLayerDefn.GetFieldCount()):\n",
        "            outFeature.SetField(outLayerDefn.GetFieldDefn(i).GetNameRef(), feature.GetField(i))\n",
        "        outLayer.CreateFeature(outFeature)\n",
        "        outFeature = None\n",
        "    outData = None\n",
        "\n",
        "carpeta_kml = \"/content/KML\"\n",
        "\n",
        "archivos_kml = [archivo for archivo in os.listdir(carpeta_kml) if archivo.endswith('.kml')]\n",
        "if not archivos_kml:\n",
        "    raise Exception(\"No se encontraron archivos KML en la carpeta especificada.\")\n",
        "\n",
        "nombre_kml = archivos_kml[0]\n",
        "nombre_geojson = nombre_kml.replace('.kml', '.geojson')\n",
        "ruta_kml = os.path.join(carpeta_kml, nombre_kml)\n",
        "ruta_geojson = os.path.join(carpeta_kml, nombre_geojson)\n",
        "kml_to_geojson(ruta_kml, ruta_geojson)\n",
        "m = folium.Map(location=[0, 0], zoom_start=2)\n",
        "\n",
        "def add_popups(feature):\n",
        "    properties = feature['properties']\n",
        "    html = '<br>'.join([f'{key}: {value}' for key, value in properties.items()])\n",
        "    return folium.Popup(html)\n",
        "\n",
        "folium.GeoJson(\n",
        "    ruta_geojson,\n",
        "    name=\"GeoJSON data\",\n",
        "    style_function=lambda feature: {\n",
        "        'fillColor': '#ffff00',\n",
        "        'color': 'black',\n",
        "        'weight': 2,\n",
        "        'dashArray': '5, 5'\n",
        "    },\n",
        "    tooltip=folium.GeoJsonTooltip(\n",
        "        fields=['Name', 'Description'],\n",
        "        aliases=['Nombre:', 'Descripción:']\n",
        "    ),\n",
        "    popup=add_popups\n",
        ").add_to(m)\n",
        "\n",
        "folium.LayerControl().add_to(m)\n",
        "m\n"
      ],
      "metadata": {
        "id": "_LhPBlyR-mU3"
      },
      "execution_count": null,
      "outputs": []
    },
    {
      "cell_type": "markdown",
      "source": [
        "**5. BORRAR EL CONTENIDO PARA PROCESAR OTRA TABLA**"
      ],
      "metadata": {
        "id": "2FGtJkjZINs2"
      }
    },
    {
      "cell_type": "code",
      "source": [
        "from pathlib import Path\n",
        "\n",
        "def eliminar_contenido_carpeta(path):\n",
        "    # Crea un objeto Path\n",
        "    carpeta = Path(path)\n",
        "\n",
        "    # Verifica si la carpeta existe\n",
        "    if carpeta.exists():\n",
        "        # Elimina todos los archivos y subdirectorios utilizando una comprensión de lista\n",
        "        [elemento.unlink() for elemento in carpeta.iterdir() if elemento.is_file() or elemento.is_symlink()]\n",
        "\n",
        "# Rutas de las carpetas\n",
        "carpeta_kml = \"/content/KML\"\n",
        "carpeta_xls = \"/content/XLS\"\n",
        "\n",
        "# Eliminar el contenido de las carpetas\n",
        "eliminar_contenido_carpeta(carpeta_kml)\n",
        "eliminar_contenido_carpeta(carpeta_xls)\n",
        "\n",
        "print(\"El contenido de las carpetas KML y XLS ha sido eliminado.\")\n"
      ],
      "metadata": {
        "colab": {
          "base_uri": "https://localhost:8080/"
        },
        "id": "WhgmmrEJINdg",
        "outputId": "2c91338c-31d1-4045-f333-a00ef0c0f719"
      },
      "execution_count": null,
      "outputs": [
        {
          "output_type": "stream",
          "name": "stdout",
          "text": [
            "El contenido de las carpetas KML y XLS ha sido eliminado.\n"
          ]
        }
      ]
    }
  ]
}